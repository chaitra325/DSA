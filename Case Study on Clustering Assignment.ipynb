{
 "cells": [
  {
   "cell_type": "code",
   "execution_count": 257,
   "id": "2084cd86-87de-4f66-8c23-4bb0a0b20069",
   "metadata": {},
   "outputs": [],
   "source": [
    "import pandas as pd\n",
    "import matplotlib.pyplot as plt\n",
    "import seaborn as sns\n",
    "import numpy as np\n",
    "from sklearn.preprocessing import StandardScaler\n",
    "from sklearn.cluster import KMeans, AgglomerativeClustering, DBSCAN\n",
    "from sklearn.metrics import silhouette_score\n",
    "import scipy.cluster.hierarchy as sch\n",
    "import warnings\n",
    "warnings.filterwarnings('ignore')"
   ]
  },
  {
   "cell_type": "code",
   "execution_count": 258,
   "id": "0dea8dff-17de-475a-a7a0-61e0369e6e03",
   "metadata": {},
   "outputs": [],
   "source": [
    "df = pd.read_csv(r'C:\\data\\Wine_clust.csv')"
   ]
  },
  {
   "cell_type": "code",
   "execution_count": 259,
   "id": "15517987-3691-4eb5-9537-50ce8fda483d",
   "metadata": {},
   "outputs": [
    {
     "data": {
      "text/html": [
       "<div>\n",
       "<style scoped>\n",
       "    .dataframe tbody tr th:only-of-type {\n",
       "        vertical-align: middle;\n",
       "    }\n",
       "\n",
       "    .dataframe tbody tr th {\n",
       "        vertical-align: top;\n",
       "    }\n",
       "\n",
       "    .dataframe thead th {\n",
       "        text-align: right;\n",
       "    }\n",
       "</style>\n",
       "<table border=\"1\" class=\"dataframe\">\n",
       "  <thead>\n",
       "    <tr style=\"text-align: right;\">\n",
       "      <th></th>\n",
       "      <th>Alcohol</th>\n",
       "      <th>Malic_Acid</th>\n",
       "      <th>Ash</th>\n",
       "      <th>Ash_Alcanity</th>\n",
       "      <th>Magnesium</th>\n",
       "      <th>Total_Phenols</th>\n",
       "      <th>Flavanoids</th>\n",
       "      <th>Nonflavanoid_Phenols</th>\n",
       "      <th>Proanthocyanins</th>\n",
       "      <th>Color_Intensity</th>\n",
       "      <th>Hue</th>\n",
       "      <th>OD280</th>\n",
       "      <th>Proline</th>\n",
       "    </tr>\n",
       "  </thead>\n",
       "  <tbody>\n",
       "    <tr>\n",
       "      <th>0</th>\n",
       "      <td>14.23</td>\n",
       "      <td>1.71</td>\n",
       "      <td>2.43</td>\n",
       "      <td>15.6</td>\n",
       "      <td>127</td>\n",
       "      <td>2.80</td>\n",
       "      <td>3.06</td>\n",
       "      <td>0.28</td>\n",
       "      <td>2.29</td>\n",
       "      <td>5.64</td>\n",
       "      <td>1.04</td>\n",
       "      <td>3.92</td>\n",
       "      <td>1065</td>\n",
       "    </tr>\n",
       "    <tr>\n",
       "      <th>1</th>\n",
       "      <td>13.20</td>\n",
       "      <td>1.78</td>\n",
       "      <td>2.14</td>\n",
       "      <td>11.2</td>\n",
       "      <td>100</td>\n",
       "      <td>2.65</td>\n",
       "      <td>2.76</td>\n",
       "      <td>0.26</td>\n",
       "      <td>1.28</td>\n",
       "      <td>4.38</td>\n",
       "      <td>1.05</td>\n",
       "      <td>3.40</td>\n",
       "      <td>1050</td>\n",
       "    </tr>\n",
       "    <tr>\n",
       "      <th>2</th>\n",
       "      <td>13.16</td>\n",
       "      <td>2.36</td>\n",
       "      <td>2.67</td>\n",
       "      <td>18.6</td>\n",
       "      <td>101</td>\n",
       "      <td>2.80</td>\n",
       "      <td>3.24</td>\n",
       "      <td>0.30</td>\n",
       "      <td>2.81</td>\n",
       "      <td>5.68</td>\n",
       "      <td>1.03</td>\n",
       "      <td>3.17</td>\n",
       "      <td>1185</td>\n",
       "    </tr>\n",
       "    <tr>\n",
       "      <th>3</th>\n",
       "      <td>14.37</td>\n",
       "      <td>1.95</td>\n",
       "      <td>2.50</td>\n",
       "      <td>16.8</td>\n",
       "      <td>113</td>\n",
       "      <td>3.85</td>\n",
       "      <td>3.49</td>\n",
       "      <td>0.24</td>\n",
       "      <td>2.18</td>\n",
       "      <td>7.80</td>\n",
       "      <td>0.86</td>\n",
       "      <td>3.45</td>\n",
       "      <td>1480</td>\n",
       "    </tr>\n",
       "    <tr>\n",
       "      <th>4</th>\n",
       "      <td>13.24</td>\n",
       "      <td>2.59</td>\n",
       "      <td>2.87</td>\n",
       "      <td>21.0</td>\n",
       "      <td>118</td>\n",
       "      <td>2.80</td>\n",
       "      <td>2.69</td>\n",
       "      <td>0.39</td>\n",
       "      <td>1.82</td>\n",
       "      <td>4.32</td>\n",
       "      <td>1.04</td>\n",
       "      <td>2.93</td>\n",
       "      <td>735</td>\n",
       "    </tr>\n",
       "  </tbody>\n",
       "</table>\n",
       "</div>"
      ],
      "text/plain": [
       "   Alcohol  Malic_Acid   Ash  Ash_Alcanity  Magnesium  Total_Phenols  \\\n",
       "0    14.23        1.71  2.43          15.6        127           2.80   \n",
       "1    13.20        1.78  2.14          11.2        100           2.65   \n",
       "2    13.16        2.36  2.67          18.6        101           2.80   \n",
       "3    14.37        1.95  2.50          16.8        113           3.85   \n",
       "4    13.24        2.59  2.87          21.0        118           2.80   \n",
       "\n",
       "   Flavanoids  Nonflavanoid_Phenols  Proanthocyanins  Color_Intensity   Hue  \\\n",
       "0        3.06                  0.28             2.29             5.64  1.04   \n",
       "1        2.76                  0.26             1.28             4.38  1.05   \n",
       "2        3.24                  0.30             2.81             5.68  1.03   \n",
       "3        3.49                  0.24             2.18             7.80  0.86   \n",
       "4        2.69                  0.39             1.82             4.32  1.04   \n",
       "\n",
       "   OD280  Proline  \n",
       "0   3.92     1065  \n",
       "1   3.40     1050  \n",
       "2   3.17     1185  \n",
       "3   3.45     1480  \n",
       "4   2.93      735  "
      ]
     },
     "execution_count": 259,
     "metadata": {},
     "output_type": "execute_result"
    }
   ],
   "source": [
    "df.head()"
   ]
  },
  {
   "cell_type": "code",
   "execution_count": 260,
   "id": "80592b1b-7e54-491e-afb7-ab29f8a469af",
   "metadata": {},
   "outputs": [
    {
     "data": {
      "text/plain": [
       "Alcohol                 0\n",
       "Malic_Acid              0\n",
       "Ash                     0\n",
       "Ash_Alcanity            0\n",
       "Magnesium               0\n",
       "Total_Phenols           0\n",
       "Flavanoids              0\n",
       "Nonflavanoid_Phenols    0\n",
       "Proanthocyanins         0\n",
       "Color_Intensity         0\n",
       "Hue                     0\n",
       "OD280                   0\n",
       "Proline                 0\n",
       "dtype: int64"
      ]
     },
     "execution_count": 260,
     "metadata": {},
     "output_type": "execute_result"
    }
   ],
   "source": [
    "df.isnull().sum()"
   ]
  },
  {
   "cell_type": "code",
   "execution_count": 261,
   "id": "3320ef17-f88a-48c5-bc48-c6a9f3457d63",
   "metadata": {},
   "outputs": [
    {
     "name": "stdout",
     "output_type": "stream",
     "text": [
      "<class 'pandas.core.frame.DataFrame'>\n",
      "RangeIndex: 178 entries, 0 to 177\n",
      "Data columns (total 13 columns):\n",
      " #   Column                Non-Null Count  Dtype  \n",
      "---  ------                --------------  -----  \n",
      " 0   Alcohol               178 non-null    float64\n",
      " 1   Malic_Acid            178 non-null    float64\n",
      " 2   Ash                   178 non-null    float64\n",
      " 3   Ash_Alcanity          178 non-null    float64\n",
      " 4   Magnesium             178 non-null    int64  \n",
      " 5   Total_Phenols         178 non-null    float64\n",
      " 6   Flavanoids            178 non-null    float64\n",
      " 7   Nonflavanoid_Phenols  178 non-null    float64\n",
      " 8   Proanthocyanins       178 non-null    float64\n",
      " 9   Color_Intensity       178 non-null    float64\n",
      " 10  Hue                   178 non-null    float64\n",
      " 11  OD280                 178 non-null    float64\n",
      " 12  Proline               178 non-null    int64  \n",
      "dtypes: float64(11), int64(2)\n",
      "memory usage: 18.2 KB\n"
     ]
    }
   ],
   "source": [
    "df.info()"
   ]
  },
  {
   "cell_type": "code",
   "execution_count": 262,
   "id": "5b018540-bf42-471b-bb74-d8387511a728",
   "metadata": {},
   "outputs": [
    {
     "data": {
      "text/plain": [
       "Index(['Alcohol', 'Malic_Acid', 'Ash', 'Ash_Alcanity', 'Magnesium',\n",
       "       'Total_Phenols', 'Flavanoids', 'Nonflavanoid_Phenols',\n",
       "       'Proanthocyanins', 'Color_Intensity', 'Hue', 'OD280', 'Proline'],\n",
       "      dtype='object')"
      ]
     },
     "execution_count": 262,
     "metadata": {},
     "output_type": "execute_result"
    }
   ],
   "source": [
    "df.columns"
   ]
  },
  {
   "cell_type": "code",
   "execution_count": 263,
   "id": "3c343650-eb49-4084-9066-0f757933020f",
   "metadata": {},
   "outputs": [],
   "source": [
    "scaler = StandardScaler()\n",
    "scaled_data = scaler.fit_transform(df)"
   ]
  },
  {
   "cell_type": "markdown",
   "id": "d1cee09f-a0b4-4bfd-bfcf-8f264078bbee",
   "metadata": {},
   "source": [
    "#K-Means Clustering"
   ]
  },
  {
   "cell_type": "markdown",
   "id": "840e08e0-8fe3-464f-aab6-a5a41b484c1d",
   "metadata": {},
   "source": [
    "#Elbow Method"
   ]
  },
  {
   "cell_type": "code",
   "execution_count": 264,
   "id": "43aedd4b-da21-4b0d-982c-26be07a2422e",
   "metadata": {},
   "outputs": [],
   "source": [
    "wcss = []\n",
    "k_range = range(1, 11)\n",
    "for k in k_range:\n",
    "    kmeans = KMeans(n_clusters=k, init='k-means++', random_state=42)\n",
    "    kmeans.fit(scaled_data)\n",
    "    wcss.append(kmeans.inertia_)\n"
   ]
  },
  {
   "cell_type": "code",
   "execution_count": 265,
   "id": "195ffa33-130f-4c49-8040-6b6675c9a6ce",
   "metadata": {},
   "outputs": [
    {
     "data": {
      "image/png": "[encoded data removed]",
      "text/plain": [
       "<Figure size 1000x600 with 1 Axes>"
      ]
     },
     "metadata": {},
     "output_type": "display_data"
    }
   ],
   "source": [
    "plt.figure(figsize=(10, 6))\n",
    "plt.plot(range(1, 11), wcss, marker='o')\n",
    "plt.title('Elbow Method for Optimal K')\n",
    "plt.xlabel('Number of Clusters (K)')\n",
    "plt.ylabel('WCSS')\n",
    "plt.grid(True)\n",
    "plt.show()"
   ]
  },
  {
   "cell_type": "code",
   "execution_count": 266,
   "id": "bd2334a6-7f6b-4853-ba4e-af46513bc162",
   "metadata": {},
   "outputs": [],
   "source": [
    "optimal_k = 3\n",
    "kmeans_optimal = KMeans(n_clusters=optimal_k, init='k-means++', random_state=42)\n",
    "clusters = kmeans_optimal.fit_predict(scaled_data)\n"
   ]
  },
  {
   "cell_type": "code",
   "execution_count": 267,
   "id": "456bd6fd-efd3-4972-b067-26624450f5c7",
   "metadata": {},
   "outputs": [
    {
     "data": {
      "text/plain": [
       "array([2, 2, 2, 2, 2, 2, 2, 2, 2, 2, 2, 2, 2, 2, 2, 2, 2, 2, 2, 2, 2, 2,\n",
       "       2, 2, 2, 2, 2, 2, 2, 2, 2, 2, 2, 2, 2, 2, 2, 2, 2, 2, 2, 2, 2, 2,\n",
       "       2, 2, 2, 2, 2, 2, 2, 2, 2, 2, 2, 2, 2, 2, 2, 0, 0, 1, 0, 0, 0, 0,\n",
       "       0, 0, 0, 0, 0, 0, 0, 2, 0, 0, 0, 0, 0, 0, 0, 0, 0, 1, 0, 0, 0, 0,\n",
       "       0, 0, 0, 0, 0, 0, 0, 2, 0, 0, 0, 0, 0, 0, 0, 0, 0, 0, 0, 0, 0, 0,\n",
       "       0, 0, 0, 0, 0, 0, 0, 0, 1, 0, 0, 2, 0, 0, 0, 0, 0, 0, 0, 0, 1, 1,\n",
       "       1, 1, 1, 1, 1, 1, 1, 1, 1, 1, 1, 1, 1, 1, 1, 1, 1, 1, 1, 1, 1, 1,\n",
       "       1, 1, 1, 1, 1, 1, 1, 1, 1, 1, 1, 1, 1, 1, 1, 1, 1, 1, 1, 1, 1, 1,\n",
       "       1, 1], dtype=int32)"
      ]
     },
     "execution_count": 267,
     "metadata": {},
     "output_type": "execute_result"
    }
   ],
   "source": [
    "clusters"
   ]
  },
  {
   "cell_type": "code",
   "execution_count": 268,
   "id": "cc1f5f10-aac1-4602-8792-21f8ea83747a",
   "metadata": {},
   "outputs": [
    {
     "name": "stdout",
     "output_type": "stream",
     "text": [
      "\n",
      "Optimal K-Means Clustering Results:\n"
     ]
    },
    {
     "data": {
      "text/html": [
       "<div>\n",
       "<style scoped>\n",
       "    .dataframe tbody tr th:only-of-type {\n",
       "        vertical-align: middle;\n",
       "    }\n",
       "\n",
       "    .dataframe tbody tr th {\n",
       "        vertical-align: top;\n",
       "    }\n",
       "\n",
       "    .dataframe thead th {\n",
       "        text-align: right;\n",
       "    }\n",
       "</style>\n",
       "<table border=\"1\" class=\"dataframe\">\n",
       "  <thead>\n",
       "    <tr style=\"text-align: right;\">\n",
       "      <th></th>\n",
       "      <th>Alcohol</th>\n",
       "      <th>Malic_Acid</th>\n",
       "      <th>Ash</th>\n",
       "      <th>Ash_Alcanity</th>\n",
       "      <th>Magnesium</th>\n",
       "      <th>Total_Phenols</th>\n",
       "      <th>Flavanoids</th>\n",
       "      <th>Nonflavanoid_Phenols</th>\n",
       "      <th>Proanthocyanins</th>\n",
       "      <th>Color_Intensity</th>\n",
       "      <th>Hue</th>\n",
       "      <th>OD280</th>\n",
       "      <th>Proline</th>\n",
       "      <th>KMeans_Cluster</th>\n",
       "    </tr>\n",
       "  </thead>\n",
       "  <tbody>\n",
       "    <tr>\n",
       "      <th>60</th>\n",
       "      <td>12.33</td>\n",
       "      <td>1.10</td>\n",
       "      <td>2.28</td>\n",
       "      <td>16.0</td>\n",
       "      <td>101</td>\n",
       "      <td>2.05</td>\n",
       "      <td>1.09</td>\n",
       "      <td>0.63</td>\n",
       "      <td>0.41</td>\n",
       "      <td>3.27</td>\n",
       "      <td>1.25</td>\n",
       "      <td>1.67</td>\n",
       "      <td>680</td>\n",
       "      <td>0</td>\n",
       "    </tr>\n",
       "    <tr>\n",
       "      <th>62</th>\n",
       "      <td>13.67</td>\n",
       "      <td>1.25</td>\n",
       "      <td>1.92</td>\n",
       "      <td>18.0</td>\n",
       "      <td>94</td>\n",
       "      <td>2.10</td>\n",
       "      <td>1.79</td>\n",
       "      <td>0.32</td>\n",
       "      <td>0.73</td>\n",
       "      <td>3.80</td>\n",
       "      <td>1.23</td>\n",
       "      <td>2.46</td>\n",
       "      <td>630</td>\n",
       "      <td>0</td>\n",
       "    </tr>\n",
       "    <tr>\n",
       "      <th>63</th>\n",
       "      <td>12.37</td>\n",
       "      <td>1.13</td>\n",
       "      <td>2.16</td>\n",
       "      <td>19.0</td>\n",
       "      <td>87</td>\n",
       "      <td>3.50</td>\n",
       "      <td>3.10</td>\n",
       "      <td>0.19</td>\n",
       "      <td>1.87</td>\n",
       "      <td>4.45</td>\n",
       "      <td>1.22</td>\n",
       "      <td>2.87</td>\n",
       "      <td>420</td>\n",
       "      <td>0</td>\n",
       "    </tr>\n",
       "    <tr>\n",
       "      <th>59</th>\n",
       "      <td>12.37</td>\n",
       "      <td>0.94</td>\n",
       "      <td>1.36</td>\n",
       "      <td>10.6</td>\n",
       "      <td>88</td>\n",
       "      <td>1.98</td>\n",
       "      <td>0.57</td>\n",
       "      <td>0.28</td>\n",
       "      <td>0.42</td>\n",
       "      <td>1.95</td>\n",
       "      <td>1.05</td>\n",
       "      <td>1.82</td>\n",
       "      <td>520</td>\n",
       "      <td>0</td>\n",
       "    </tr>\n",
       "    <tr>\n",
       "      <th>91</th>\n",
       "      <td>12.00</td>\n",
       "      <td>1.51</td>\n",
       "      <td>2.42</td>\n",
       "      <td>22.0</td>\n",
       "      <td>86</td>\n",
       "      <td>1.45</td>\n",
       "      <td>1.25</td>\n",
       "      <td>0.50</td>\n",
       "      <td>1.63</td>\n",
       "      <td>3.60</td>\n",
       "      <td>1.05</td>\n",
       "      <td>2.65</td>\n",
       "      <td>450</td>\n",
       "      <td>0</td>\n",
       "    </tr>\n",
       "    <tr>\n",
       "      <th>...</th>\n",
       "      <td>...</td>\n",
       "      <td>...</td>\n",
       "      <td>...</td>\n",
       "      <td>...</td>\n",
       "      <td>...</td>\n",
       "      <td>...</td>\n",
       "      <td>...</td>\n",
       "      <td>...</td>\n",
       "      <td>...</td>\n",
       "      <td>...</td>\n",
       "      <td>...</td>\n",
       "      <td>...</td>\n",
       "      <td>...</td>\n",
       "      <td>...</td>\n",
       "    </tr>\n",
       "    <tr>\n",
       "      <th>37</th>\n",
       "      <td>13.05</td>\n",
       "      <td>1.65</td>\n",
       "      <td>2.55</td>\n",
       "      <td>18.0</td>\n",
       "      <td>98</td>\n",
       "      <td>2.45</td>\n",
       "      <td>2.43</td>\n",
       "      <td>0.29</td>\n",
       "      <td>1.44</td>\n",
       "      <td>4.25</td>\n",
       "      <td>1.12</td>\n",
       "      <td>2.51</td>\n",
       "      <td>1105</td>\n",
       "      <td>2</td>\n",
       "    </tr>\n",
       "    <tr>\n",
       "      <th>38</th>\n",
       "      <td>13.07</td>\n",
       "      <td>1.50</td>\n",
       "      <td>2.10</td>\n",
       "      <td>15.5</td>\n",
       "      <td>98</td>\n",
       "      <td>2.40</td>\n",
       "      <td>2.64</td>\n",
       "      <td>0.28</td>\n",
       "      <td>1.37</td>\n",
       "      <td>3.70</td>\n",
       "      <td>1.18</td>\n",
       "      <td>2.69</td>\n",
       "      <td>1020</td>\n",
       "      <td>2</td>\n",
       "    </tr>\n",
       "    <tr>\n",
       "      <th>39</th>\n",
       "      <td>14.22</td>\n",
       "      <td>3.99</td>\n",
       "      <td>2.51</td>\n",
       "      <td>13.2</td>\n",
       "      <td>128</td>\n",
       "      <td>3.00</td>\n",
       "      <td>3.04</td>\n",
       "      <td>0.20</td>\n",
       "      <td>2.08</td>\n",
       "      <td>5.10</td>\n",
       "      <td>0.89</td>\n",
       "      <td>3.53</td>\n",
       "      <td>760</td>\n",
       "      <td>2</td>\n",
       "    </tr>\n",
       "    <tr>\n",
       "      <th>47</th>\n",
       "      <td>13.90</td>\n",
       "      <td>1.68</td>\n",
       "      <td>2.12</td>\n",
       "      <td>16.0</td>\n",
       "      <td>101</td>\n",
       "      <td>3.10</td>\n",
       "      <td>3.39</td>\n",
       "      <td>0.21</td>\n",
       "      <td>2.14</td>\n",
       "      <td>6.10</td>\n",
       "      <td>0.91</td>\n",
       "      <td>3.33</td>\n",
       "      <td>985</td>\n",
       "      <td>2</td>\n",
       "    </tr>\n",
       "    <tr>\n",
       "      <th>46</th>\n",
       "      <td>14.38</td>\n",
       "      <td>3.59</td>\n",
       "      <td>2.28</td>\n",
       "      <td>16.0</td>\n",
       "      <td>102</td>\n",
       "      <td>3.25</td>\n",
       "      <td>3.17</td>\n",
       "      <td>0.27</td>\n",
       "      <td>2.19</td>\n",
       "      <td>4.90</td>\n",
       "      <td>1.04</td>\n",
       "      <td>3.44</td>\n",
       "      <td>1065</td>\n",
       "      <td>2</td>\n",
       "    </tr>\n",
       "  </tbody>\n",
       "</table>\n",
       "<p>178 rows × 14 columns</p>\n",
       "</div>"
      ],
      "text/plain": [
       "    Alcohol  Malic_Acid   Ash  Ash_Alcanity  Magnesium  Total_Phenols  \\\n",
       "60    12.33        1.10  2.28          16.0        101           2.05   \n",
       "62    13.67        1.25  1.92          18.0         94           2.10   \n",
       "63    12.37        1.13  2.16          19.0         87           3.50   \n",
       "59    12.37        0.94  1.36          10.6         88           1.98   \n",
       "91    12.00        1.51  2.42          22.0         86           1.45   \n",
       "..      ...         ...   ...           ...        ...            ...   \n",
       "37    13.05        1.65  2.55          18.0         98           2.45   \n",
       "38    13.07        1.50  2.10          15.5         98           2.40   \n",
       "39    14.22        3.99  2.51          13.2        128           3.00   \n",
       "47    13.90        1.68  2.12          16.0        101           3.10   \n",
       "46    14.38        3.59  2.28          16.0        102           3.25   \n",
       "\n",
       "    Flavanoids  Nonflavanoid_Phenols  Proanthocyanins  Color_Intensity   Hue  \\\n",
       "60        1.09                  0.63             0.41             3.27  1.25   \n",
       "62        1.79                  0.32             0.73             3.80  1.23   \n",
       "63        3.10                  0.19             1.87             4.45  1.22   \n",
       "59        0.57                  0.28             0.42             1.95  1.05   \n",
       "91        1.25                  0.50             1.63             3.60  1.05   \n",
       "..         ...                   ...              ...              ...   ...   \n",
       "37        2.43                  0.29             1.44             4.25  1.12   \n",
       "38        2.64                  0.28             1.37             3.70  1.18   \n",
       "39        3.04                  0.20             2.08             5.10  0.89   \n",
       "47        3.39                  0.21             2.14             6.10  0.91   \n",
       "46        3.17                  0.27             2.19             4.90  1.04   \n",
       "\n",
       "    OD280  Proline  KMeans_Cluster  \n",
       "60   1.67      680               0  \n",
       "62   2.46      630               0  \n",
       "63   2.87      420               0  \n",
       "59   1.82      520               0  \n",
       "91   2.65      450               0  \n",
       "..    ...      ...             ...  \n",
       "37   2.51     1105               2  \n",
       "38   2.69     1020               2  \n",
       "39   3.53      760               2  \n",
       "47   3.33      985               2  \n",
       "46   3.44     1065               2  \n",
       "\n",
       "[178 rows x 14 columns]"
      ]
     },
     "execution_count": 268,
     "metadata": {},
     "output_type": "execute_result"
    }
   ],
   "source": [
    "df['KMeans_Cluster'] = clusters\n",
    "print(\"\\nOptimal K-Means Clustering Results:\")\n",
    "df.sort_values(by='KMeans_Cluster')\n"
   ]
  },
  {
   "cell_type": "markdown",
   "id": "db923b07-705c-4183-b5c8-b6e62a242b2c",
   "metadata": {},
   "source": [
    "#Silhouette Method"
   ]
  },
  {
   "cell_type": "code",
   "execution_count": 269,
   "id": "d212ade1-7fc7-4662-b6b6-7da6da8b40f5",
   "metadata": {},
   "outputs": [],
   "source": [
    "silhouette_scores = []\n",
    "k_range_sil = range(2, 11)\n",
    "for k in k_range_sil:\n",
    "    kmeans = KMeans(n_clusters=k,init='k-means++', random_state=42)\n",
    "    labels = kmeans.fit_predict(scaled_data)\n",
    "    score = silhouette_score(scaled_data, labels)\n",
    "    silhouette_scores.append(score)"
   ]
  },
  {
   "cell_type": "code",
   "execution_count": 270,
   "id": "b8d0c5e4-6e9b-48f3-8332-43c7337336dd",
   "metadata": {},
   "outputs": [
    {
     "data": {
      "text/plain": [
       "[np.float64(0.2650328591008738),\n",
       " np.float64(0.2848589191898987),\n",
       " np.float64(0.25422758316007776),\n",
       " np.float64(0.18362105107698137),\n",
       " np.float64(0.16899191019013057),\n",
       " np.float64(0.1726015561094921),\n",
       " np.float64(0.16250411307671142),\n",
       " np.float64(0.17387393345450863),\n",
       " np.float64(0.1395672366429755)]"
      ]
     },
     "execution_count": 270,
     "metadata": {},
     "output_type": "execute_result"
    }
   ],
   "source": [
    " silhouette_scores"
   ]
  },
  {
   "cell_type": "code",
   "execution_count": 271,
   "id": "f234b212-57d6-4b09-8805-a3f5b63fdd9c",
   "metadata": {},
   "outputs": [
    {
     "data": {
      "image/png": "[encoded data removed]",
      "text/plain": [
       "<Figure size 1000x500 with 1 Axes>"
      ]
     },
     "metadata": {},
     "output_type": "display_data"
    }
   ],
   "source": [
    "plt.figure(figsize=(10, 5))\n",
    "plt.plot(k_range_sil, silhouette_scores, marker='o')\n",
    "plt.title('Silhouette Scores for K-Means')\n",
    "plt.xlabel('Number of Clusters (k)')\n",
    "plt.ylabel('Silhouette Score')\n",
    "plt.grid(True)\n",
    "plt.show()"
   ]
  },
  {
   "cell_type": "code",
   "execution_count": 272,
   "id": "3d649866-ac0f-485b-b2de-16d9fbce4020",
   "metadata": {},
   "outputs": [],
   "source": [
    "optimal_k = range(2, 11)[np.argmax(silhouette_scores)]"
   ]
  },
  {
   "cell_type": "code",
   "execution_count": 273,
   "id": "1c8a3089-1921-4528-ad18-d3e6052b47af",
   "metadata": {},
   "outputs": [
    {
     "data": {
      "text/plain": [
       "3"
      ]
     },
     "execution_count": 273,
     "metadata": {},
     "output_type": "execute_result"
    }
   ],
   "source": [
    "optimal_k"
   ]
  },
  {
   "cell_type": "markdown",
   "id": "48b15cf5-e391-4cb7-a444-db2a5488754b",
   "metadata": {},
   "source": [
    "#Agglomerative Hierarchical Clustering"
   ]
  },
  {
   "cell_type": "markdown",
   "id": "24c4cc43-06fa-4de3-9577-bb03635b41f0",
   "metadata": {},
   "source": [
    "#Dendogram"
   ]
  },
  {
   "cell_type": "code",
   "execution_count": null,
   "id": "1a27c1b8-41b7-4dbc-89e3-9330a1d0254f",
   "metadata": {},
   "outputs": [],
   "source": [
    "plt.figure(figsize=(12, 8))\n",
    "dendrogram = sch.dendrogram(sch.linkage(scaled_data, method = 'ward'))\n",
    "plt.title(\"Hierarchical Clustering Dendrogram\")\n",
    "plt.xlabel(\"Data Points\")\n",
    "plt.ylabel(\"Euclidean Distance\")\n",
    "plt.axhline(y=19, color='r', linestyle='--')\n",
    "plt.show()"
   ]
  },
  {
   "cell_type": "markdown",
   "id": "055a037a-d64c-4386-9fee-f49865c949ec",
   "metadata": {},
   "source": [
    "#Silhouette Scores "
   ]
  },
  {
   "cell_type": "code",
   "execution_count": null,
   "id": "c2179087-5a64-4251-aed3-7360d4cb2369",
   "metadata": {},
   "outputs": [],
   "source": [
    "sil_scores1 = []\n",
    "for i in range(2,10):\n",
    "    ahc = AgglomerativeClustering(n_clusters = i, metric = 'euclidean',linkage = 'ward')\n",
    "    y_ahc = ahc.fit_predict(scaled_data)\n",
    "    s_score1 = silhouette_score(scaled_data, y_ahc)\n",
    "    sil_scores1.append(s_score1)"
   ]
  },
  {
   "cell_type": "code",
   "execution_count": null,
   "id": "214d2146-9d1a-4e89-81af-520e7b49fe44",
   "metadata": {},
   "outputs": [],
   "source": [
    " sil_scores1"
   ]
  },
  {
   "cell_type": "code",
   "execution_count": null,
   "id": "a9ac89f0-b1d8-4a08-9f9f-e37acbbdb90b",
   "metadata": {},
   "outputs": [],
   "source": [
    "plt.figure(figsize = (6,4))\n",
    "x = range(2,10)\n",
    "plt.title('Silhouette Scores for Hierarchical Clustering')\n",
    "plt.plot(x,sil_scores1,label = 'Silhouette_score')\n",
    "plt.xlabel('No. of Clusters')\n",
    "plt.ylabel('Silhouette_score')\n",
    "plt.grid(True)\n",
    "plt.show()\n",
    "[ ]"
   ]
  },
  {
   "cell_type": "code",
   "execution_count": null,
   "id": "cc350db3-71ec-4068-8127-af8ae6890282",
   "metadata": {},
   "outputs": [],
   "source": [
    "optimal_n_clusters = 3\n",
    "ahc = AgglomerativeClustering(n_clusters = optimal_n_clusters,metric='euclidean', linkage='ward')\n",
    "y_ahc = ahc.fit_predict(scaled_data)"
   ]
  },
  {
   "cell_type": "code",
   "execution_count": null,
   "id": "1afeaf6e-2e77-48b5-a2fa-21c3cd66123b",
   "metadata": {},
   "outputs": [],
   "source": [
    "y_ahc"
   ]
  },
  {
   "cell_type": "code",
   "execution_count": null,
   "id": "e781bbd0-df53-40c2-a9b3-f521177686cf",
   "metadata": {},
   "outputs": [],
   "source": [
    "sil_ahc = silhouette_score(scaled_data, y_ahc)"
   ]
  },
  {
   "cell_type": "code",
   "execution_count": null,
   "id": "417c10ef-d2fb-4b95-9d86-972c77b8e005",
   "metadata": {},
   "outputs": [],
   "source": [
    "sil_ahc"
   ]
  },
  {
   "cell_type": "code",
   "execution_count": null,
   "id": "3ed78554-0e21-4b35-9eef-c52256e1029d",
   "metadata": {},
   "outputs": [],
   "source": [
    "df['Hierarchical_Cluster'] = y_ahc\n",
    "print(\"\\nAgglomerative Clustering Results:\")\n",
    "df.sort_values(by= 'Hierarchical_Cluster')\n"
   ]
  },
  {
   "cell_type": "code",
   "execution_count": null,
   "id": "5ef53ae5-3b70-4278-8e94-ce59d6d1297d",
   "metadata": {},
   "outputs": [],
   "source": [
    "optimal_k1 = range(2, 11)[np.argmax(sil_scores1)]"
   ]
  },
  {
   "cell_type": "code",
   "execution_count": null,
   "id": "59aad24b-ea7e-426e-8014-b2980b232d30",
   "metadata": {},
   "outputs": [],
   "source": [
    "optimal_k1"
   ]
  },
  {
   "cell_type": "markdown",
   "id": "32ebc62d-fdc4-49ee-91ae-9a5f1ade6a07",
   "metadata": {},
   "source": [
    "#DBSCAN"
   ]
  },
  {
   "cell_type": "code",
   "execution_count": null,
   "id": "12de5cfc-a6e7-4881-a11c-f4ee6a566ff2",
   "metadata": {},
   "outputs": [],
   "source": [
    "from sklearn.neighbors import NearestNeighbors\n",
    "import numpy as np"
   ]
  },
  {
   "cell_type": "code",
   "execution_count": null,
   "id": "c79c19f5-a8e3-4ac9-a89e-530b7d366b00",
   "metadata": {},
   "outputs": [],
   "source": [
    "min_samples_db = 2 * scaled_data.shape[1]"
   ]
  },
  {
   "cell_type": "code",
   "execution_count": null,
   "id": "2c24753b-ebdc-4980-9cd6-3a77628eba41",
   "metadata": {},
   "outputs": [],
   "source": [
    "\n",
    "nearest_neighbors = NearestNeighbors(n_neighbors=min_samples_db)\n",
    "neighbors_fit=nearest_neighbors.fit(scaled_data)\n",
    "distances, indices = neighbors_fit.kneighbors(scaled_data)"
   ]
  },
  {
   "cell_type": "code",
   "execution_count": null,
   "id": "c99146da-74e3-4936-93be-1a623991a395",
   "metadata": {},
   "outputs": [],
   "source": [
    "sorted_distances = np.sort(distances[:, min_samples_db-1], axis=0)"
   ]
  },
  {
   "cell_type": "code",
   "execution_count": null,
   "id": "ad3aa73a-bc0a-4114-8200-c2e37d041978",
   "metadata": {},
   "outputs": [],
   "source": [
    "plt.figure(figsize=(8, 5))\n",
    "plt.plot(sorted_distances)\n",
    "plt.title('K-distance Graph for DBSCAN')\n",
    "plt.xlabel('Data Points sorted by distance')\n",
    "plt.ylabel(f'{min_samples_db}-th Nearest Neighbor Distance')\n",
    "plt.grid(True)\n",
    "plt.show()"
   ]
  },
  {
   "cell_type": "code",
   "execution_count": null,
   "id": "729687cb-3767-4417-93ad-c44cb0c7ee32",
   "metadata": {},
   "outputs": [],
   "source": [
    "optimal_eps =3.1\n",
    "dbscan = DBSCAN(eps=optimal_eps, min_samples=min_samples_db)\n",
    "dbscan_labels = dbscan.fit_predict(scaled_data)"
   ]
  },
  {
   "cell_type": "code",
   "execution_count": null,
   "id": "e42cf5db-73fb-488a-b4fd-f5f2566fb8ed",
   "metadata": {},
   "outputs": [],
   "source": [
    "n_clusters_ = len(set(dbscan_labels)) - (1 if -1 in dbscan_labels else 0)\n",
    "n_noise_ = list(dbscan_labels).count(-1)\n"
   ]
  },
  {
   "cell_type": "code",
   "execution_count": null,
   "id": "9d9b5434-ba30-4087-8a2c-ca0fcc14b9ca",
   "metadata": {},
   "outputs": [],
   "source": [
    "print(\"Estimated number of clusters: \",n_clusters_)\n",
    "print(\"Cluster labels:\", dbscan_labels)"
   ]
  },
  {
   "cell_type": "code",
   "execution_count": null,
   "id": "bd6df7cd-b79e-455f-a789-f8c51a9eb882",
   "metadata": {},
   "outputs": [],
   "source": [
    "df['DBSCAN_Cluster']=dbscan_labels\n",
    "df.sort_values(by='DBSCAN_Cluster')"
   ]
  },
  {
   "cell_type": "code",
   "execution_count": null,
   "id": "3598142e-bba6-4553-a5ce-abcb1ba8e730",
   "metadata": {},
   "outputs": [],
   "source": [
    "from sklearn.decomposition import PCA"
   ]
  },
  {
   "cell_type": "code",
   "execution_count": null,
   "id": "f17e1f29-30bb-4c4f-a008-f57048d8d25b",
   "metadata": {},
   "outputs": [],
   "source": [
    "pca = PCA(n_components=2)\n",
    "principal_components = pca.fit_transform(scaled_data)\n"
   ]
  },
  {
   "cell_type": "code",
   "execution_count": null,
   "id": "fb65b6a6-430e-4c13-bb26-6c433ca5e161",
   "metadata": {},
   "outputs": [],
   "source": [
    "pca_df = pd.DataFrame(data=principal_components, columns=['PC1', 'PC2'])"
   ]
  },
  {
   "cell_type": "code",
   "execution_count": null,
   "id": "ed1aadc4-3fe1-46ce-9e37-5e52bb56b3e2",
   "metadata": {},
   "outputs": [],
   "source": [
    "pca_df['KMeans_Labels'] = clusters\n",
    "pca_df['Agglomerative_Labels'] = y_ahc\n",
    "pca_df['DBSCAN_Labels'] = dbscan_labels\n"
   ]
  },
  {
   "cell_type": "code",
   "execution_count": null,
   "id": "9bf3e378-913d-4de1-be11-15954d5a8c0c",
   "metadata": {},
   "outputs": [],
   "source": [
    "#  Visualize K-Means clusters \n",
    "\n",
    "plt.figure(figsize=(12, 6))\n",
    "plt.subplot(1, 3, 1)\n",
    "sns.scatterplot(x='PC1', y='PC2', hue='KMeans_Labels', data=pca_df, palette='viridis', legend='full')\n",
    "plt.title('K-Means Clustering')\n",
    "\n",
    "# Visualize Agglomerative clusters \n",
    "plt.subplot(1, 3, 2)\n",
    "sns.scatterplot(x='PC1', y='PC2', hue='Agglomerative_Labels', data=pca_df, palette='viridis', legend='full')\n",
    "plt.title('Agglomerative Clustering')\n",
    "\n",
    "#Visualize DBSCAN clusters \n",
    "plt.subplot(1, 3, 3)\n",
    "sns.scatterplot(x='PC1', y='PC2', hue='DBSCAN_Labels', data=pca_df, palette='viridis', legend='full')\n",
    "plt.title('DBSCAN Clustering')\n",
    "\n",
    "plt.tight_layout()\n",
    "plt.show()"
   ]
  },
  {
   "cell_type": "code",
   "execution_count": null,
   "id": "a9923359-4445-495e-81c4-f9c4aedbca8c",
   "metadata": {},
   "outputs": [],
   "source": [
    "# K-Means Silhouette Score\n",
    "kmeans_silhouette = silhouette_score(scaled_data, clusters)\n",
    "print(\"K-Means Silhouette Score with 3 clusters:\", kmeans_silhouette)\n",
    "\n",
    "# Agglomerative Silhouette Score\n",
    "agg_silhouette = silhouette_score(scaled_data, y_ahc)\n",
    "print(\"Agglomerative Silhouette Score with 3 clusters:\", agg_silhouette)\n",
    "\n",
    "# DBSCAN Silhouette Score (handle case with noise)\n",
    "dbscan_labels_no_noise = dbscan_labels[dbscan_labels != -1]\n",
    "if len(np.unique(dbscan_labels_no_noise)) > 1:\n",
    "    dbscan_silhouette = silhouette_score(scaled_data[dbscan_labels != -1], dbscan_labels_no_noise)\n",
    "    print(\"DBSCAN Silhouette Score (excluding noise):\",dbscan_silhouette)\n",
    "else:\n",
    "    print(\"DBSCAN resulted in one or no clusters (after removing noise), so a silhouette score cannot be calculated.\")\n",
    "\n",
    "print(\"\\nThe choice of the  model depends on the specific goals of the analysis. A higher silhouette score generally indicates better-defined clusters.\")"
   ]
  },
  {
   "cell_type": "code",
   "execution_count": null,
   "id": "a3a28481-9c07-4d2c-945d-cc8439f94afd",
   "metadata": {},
   "outputs": [],
   "source": []
  }
 ],
 "metadata": {
  "kernelspec": {
   "display_name": "Python [conda env:base] *",
   "language": "python",
   "name": "conda-base-py"
  },
  "language_info": {
   "codemirror_mode": {
    "name": "ipython",
    "version": 3
   },
   "file_extension": ".py",
   "mimetype": "text/x-python",
   "name": "python",
   "nbconvert_exporter": "python",
   "pygments_lexer": "ipython3",
   "version": "3.13.5"
  }
 },
 "nbformat": 4,
 "nbformat_minor": 5
}
