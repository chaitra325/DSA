{
 "cells": [
  {
   "cell_type": "code",
   "execution_count": 1,
   "id": "46e24abc-e569-42d7-a208-98cf4ea73cf9",
   "metadata": {},
   "outputs": [],
   "source": [
    "import pandas as pd\n",
    "import numpy as np\n",
    "import seaborn as sns\n",
    "import matplotlib.pyplot as plt\n",
    "from sklearn.model_selection import train_test_split\n",
    "from sklearn.linear_model import LinearRegression, Lasso\n",
    "from sklearn.metrics import mean_squared_error, r2_score\n",
    "import warnings\n",
    "warnings.filterwarnings('ignore')"
   ]
  },
  {
   "cell_type": "code",
   "execution_count": 2,
   "id": "71b6e2f2-6127-495c-bb10-1155ad83b382",
   "metadata": {},
   "outputs": [],
   "source": [
    "df = pd.read_csv(r'C:\\data\\car_age_price.csv')"
   ]
  },
  {
   "cell_type": "code",
   "execution_count": 3,
   "id": "b880d5f9-0250-4715-97a5-6594e734be8d",
   "metadata": {},
   "outputs": [
    {
     "name": "stdout",
     "output_type": "stream",
     "text": [
      "  \n",
      "Dataset loaded successfully.  \n"
     ]
    },
    {
     "data": {
      "text/html": [
       "<div>\n",
       "<style scoped>\n",
       "    .dataframe tbody tr th:only-of-type {\n",
       "        vertical-align: middle;\n",
       "    }\n",
       "\n",
       "    .dataframe tbody tr th {\n",
       "        vertical-align: top;\n",
       "    }\n",
       "\n",
       "    .dataframe thead th {\n",
       "        text-align: right;\n",
       "    }\n",
       "</style>\n",
       "<table border=\"1\" class=\"dataframe\">\n",
       "  <thead>\n",
       "    <tr style=\"text-align: right;\">\n",
       "      <th></th>\n",
       "      <th>Year</th>\n",
       "      <th>Price</th>\n",
       "    </tr>\n",
       "  </thead>\n",
       "  <tbody>\n",
       "    <tr>\n",
       "      <th>0</th>\n",
       "      <td>2018</td>\n",
       "      <td>465000</td>\n",
       "    </tr>\n",
       "    <tr>\n",
       "      <th>1</th>\n",
       "      <td>2019</td>\n",
       "      <td>755000</td>\n",
       "    </tr>\n",
       "    <tr>\n",
       "      <th>2</th>\n",
       "      <td>2019</td>\n",
       "      <td>700000</td>\n",
       "    </tr>\n",
       "    <tr>\n",
       "      <th>3</th>\n",
       "      <td>2018</td>\n",
       "      <td>465000</td>\n",
       "    </tr>\n",
       "    <tr>\n",
       "      <th>4</th>\n",
       "      <td>2018</td>\n",
       "      <td>465000</td>\n",
       "    </tr>\n",
       "  </tbody>\n",
       "</table>\n",
       "</div>"
      ],
      "text/plain": [
       "   Year   Price\n",
       "0  2018  465000\n",
       "1  2019  755000\n",
       "2  2019  700000\n",
       "3  2018  465000\n",
       "4  2018  465000"
      ]
     },
     "execution_count": 3,
     "metadata": {},
     "output_type": "execute_result"
    }
   ],
   "source": [
    "print(\"  \\nDataset loaded successfully.  \")\n",
    "df.head()"
   ]
  },
  {
   "cell_type": "code",
   "execution_count": 4,
   "id": "2253c82f-aa98-443d-8e4e-06ba72bc7cc7",
   "metadata": {},
   "outputs": [
    {
     "data": {
      "text/plain": [
       "(112, 2)"
      ]
     },
     "execution_count": 4,
     "metadata": {},
     "output_type": "execute_result"
    }
   ],
   "source": [
    "df.shape"
   ]
  },
  {
   "cell_type": "code",
   "execution_count": 5,
   "id": "8f306dbe-3d26-40da-ac13-ac4cddbab77a",
   "metadata": {},
   "outputs": [],
   "source": [
    "df.drop_duplicates(inplace=True)"
   ]
  },
  {
   "cell_type": "code",
   "execution_count": 6,
   "id": "26176f25-bd12-434f-b0ba-227c0588c99e",
   "metadata": {},
   "outputs": [
    {
     "name": "stdout",
     "output_type": "stream",
     "text": [
      "Shape After deleting duplicate values: (58, 2)\n"
     ]
    }
   ],
   "source": [
    "print('Shape After deleting duplicate values:',df.shape)\n"
   ]
  },
  {
   "cell_type": "code",
   "execution_count": 7,
   "id": "38b3a768-afa5-4327-96b3-219c5b81ea7d",
   "metadata": {},
   "outputs": [
    {
     "data": {
      "text/html": [
       "<div>\n",
       "<style scoped>\n",
       "    .dataframe tbody tr th:only-of-type {\n",
       "        vertical-align: middle;\n",
       "    }\n",
       "\n",
       "    .dataframe tbody tr th {\n",
       "        vertical-align: top;\n",
       "    }\n",
       "\n",
       "    .dataframe thead th {\n",
       "        text-align: right;\n",
       "    }\n",
       "</style>\n",
       "<table border=\"1\" class=\"dataframe\">\n",
       "  <thead>\n",
       "    <tr style=\"text-align: right;\">\n",
       "      <th></th>\n",
       "      <th>Year</th>\n",
       "      <th>Price</th>\n",
       "    </tr>\n",
       "  </thead>\n",
       "  <tbody>\n",
       "    <tr>\n",
       "      <th>0</th>\n",
       "      <td>2018</td>\n",
       "      <td>465000</td>\n",
       "    </tr>\n",
       "    <tr>\n",
       "      <th>1</th>\n",
       "      <td>2019</td>\n",
       "      <td>755000</td>\n",
       "    </tr>\n",
       "    <tr>\n",
       "      <th>2</th>\n",
       "      <td>2019</td>\n",
       "      <td>700000</td>\n",
       "    </tr>\n",
       "    <tr>\n",
       "      <th>5</th>\n",
       "      <td>2015</td>\n",
       "      <td>350000</td>\n",
       "    </tr>\n",
       "    <tr>\n",
       "      <th>6</th>\n",
       "      <td>2016</td>\n",
       "      <td>425000</td>\n",
       "    </tr>\n",
       "  </tbody>\n",
       "</table>\n",
       "</div>"
      ],
      "text/plain": [
       "   Year   Price\n",
       "0  2018  465000\n",
       "1  2019  755000\n",
       "2  2019  700000\n",
       "5  2015  350000\n",
       "6  2016  425000"
      ]
     },
     "execution_count": 7,
     "metadata": {},
     "output_type": "execute_result"
    }
   ],
   "source": [
    "df.head()"
   ]
  },
  {
   "cell_type": "code",
   "execution_count": 8,
   "id": "b95a0a60-75cb-4131-b62c-44a1dcda7882",
   "metadata": {},
   "outputs": [
    {
     "name": "stdout",
     "output_type": "stream",
     "text": [
      "\n",
      "--- Dataset Information ---\n",
      "\n",
      "                           \n",
      "<class 'pandas.core.frame.DataFrame'>\n",
      "Index: 58 entries, 0 to 110\n",
      "Data columns (total 2 columns):\n",
      " #   Column  Non-Null Count  Dtype\n",
      "---  ------  --------------  -----\n",
      " 0   Year    58 non-null     int64\n",
      " 1   Price   58 non-null     int64\n",
      "dtypes: int64(2)\n",
      "memory usage: 1.4 KB\n",
      "\n",
      "--- Dataset Description ---\n"
     ]
    },
    {
     "data": {
      "text/html": [
       "<div>\n",
       "<style scoped>\n",
       "    .dataframe tbody tr th:only-of-type {\n",
       "        vertical-align: middle;\n",
       "    }\n",
       "\n",
       "    .dataframe tbody tr th {\n",
       "        vertical-align: top;\n",
       "    }\n",
       "\n",
       "    .dataframe thead th {\n",
       "        text-align: right;\n",
       "    }\n",
       "</style>\n",
       "<table border=\"1\" class=\"dataframe\">\n",
       "  <thead>\n",
       "    <tr style=\"text-align: right;\">\n",
       "      <th></th>\n",
       "      <th>Year</th>\n",
       "      <th>Price</th>\n",
       "    </tr>\n",
       "  </thead>\n",
       "  <tbody>\n",
       "    <tr>\n",
       "      <th>count</th>\n",
       "      <td>58.000000</td>\n",
       "      <td>58.000000</td>\n",
       "    </tr>\n",
       "    <tr>\n",
       "      <th>mean</th>\n",
       "      <td>2016.568966</td>\n",
       "      <td>474448.224138</td>\n",
       "    </tr>\n",
       "    <tr>\n",
       "      <th>std</th>\n",
       "      <td>1.902096</td>\n",
       "      <td>105995.736551</td>\n",
       "    </tr>\n",
       "    <tr>\n",
       "      <th>min</th>\n",
       "      <td>2013.000000</td>\n",
       "      <td>300000.000000</td>\n",
       "    </tr>\n",
       "    <tr>\n",
       "      <th>25%</th>\n",
       "      <td>2015.000000</td>\n",
       "      <td>397000.000000</td>\n",
       "    </tr>\n",
       "    <tr>\n",
       "      <th>50%</th>\n",
       "      <td>2017.000000</td>\n",
       "      <td>475000.000000</td>\n",
       "    </tr>\n",
       "    <tr>\n",
       "      <th>75%</th>\n",
       "      <td>2018.000000</td>\n",
       "      <td>543750.000000</td>\n",
       "    </tr>\n",
       "    <tr>\n",
       "      <th>max</th>\n",
       "      <td>2020.000000</td>\n",
       "      <td>755000.000000</td>\n",
       "    </tr>\n",
       "  </tbody>\n",
       "</table>\n",
       "</div>"
      ],
      "text/plain": [
       "              Year          Price\n",
       "count    58.000000      58.000000\n",
       "mean   2016.568966  474448.224138\n",
       "std       1.902096  105995.736551\n",
       "min    2013.000000  300000.000000\n",
       "25%    2015.000000  397000.000000\n",
       "50%    2017.000000  475000.000000\n",
       "75%    2018.000000  543750.000000\n",
       "max    2020.000000  755000.000000"
      ]
     },
     "execution_count": 8,
     "metadata": {},
     "output_type": "execute_result"
    }
   ],
   "source": [
    "print(\"\\n--- Dataset Information ---\")\n",
    "print(\"\\n                           \")\n",
    "df.info()\n",
    "\n",
    "print(\"\\n--- Dataset Description ---\")\n",
    "df.describe()"
   ]
  },
  {
   "cell_type": "code",
   "execution_count": 9,
   "id": "5c0756d3-4a42-43df-a451-d9f124e36d49",
   "metadata": {},
   "outputs": [
    {
     "data": {
      "text/plain": [
       "Year     0\n",
       "Price    0\n",
       "dtype: int64"
      ]
     },
     "execution_count": 9,
     "metadata": {},
     "output_type": "execute_result"
    }
   ],
   "source": [
    "df.isna().sum()"
   ]
  },
  {
   "cell_type": "code",
   "execution_count": 10,
   "id": "184e09a2-c842-49f0-bb1f-3be4f60a1bc9",
   "metadata": {},
   "outputs": [
    {
     "data": {
      "text/plain": [
       "Index(['Year', 'Price'], dtype='object')"
      ]
     },
     "execution_count": 10,
     "metadata": {},
     "output_type": "execute_result"
    }
   ],
   "source": [
    "df.columns"
   ]
  },
  {
   "cell_type": "code",
   "execution_count": 11,
   "id": "36ccbf1e-df74-44ad-82d6-e5caa66a5db2",
   "metadata": {},
   "outputs": [
    {
     "data": {
      "image/png": "[encoded data removed]",
      "text/plain": [
       "<Figure size 1000x600 with 1 Axes>"
      ]
     },
     "metadata": {},
     "output_type": "display_data"
    }
   ],
   "source": [
    "plt.figure(figsize=(10, 6))\n",
    "plt.scatter(df['Year'], df['Price'], color='blue')\n",
    "plt.title('Price vs Year')\n",
    "plt.xlabel('Year')\n",
    "plt.ylabel('Price')\n",
    "plt.show()"
   ]
  },
  {
   "cell_type": "markdown",
   "id": "c8ca377e-34a2-4c18-b7c0-9cdca258e379",
   "metadata": {},
   "source": [
    "#Linear Regression Model"
   ]
  },
  {
   "cell_type": "code",
   "execution_count": 12,
   "id": "f54e4243-860a-4160-84ae-1b9cb855c2b3",
   "metadata": {},
   "outputs": [],
   "source": [
    "x = df[['Year']]\n",
    "y = df['Price']\n",
    "x_train,x_test,y_train,y_test = train_test_split(x,y,test_size = 0.2,random_state = 42)"
   ]
  },
  {
   "cell_type": "code",
   "execution_count": 13,
   "id": "cc904281-35d9-4ad7-b7e9-2c00d21f1ae6",
   "metadata": {},
   "outputs": [],
   "source": [
    "lr = LinearRegression()"
   ]
  },
  {
   "cell_type": "code",
   "execution_count": 14,
   "id": "28f7f30b-6d23-44b2-86c6-f725b342c8a3",
   "metadata": {},
   "outputs": [],
   "source": [
    "model = lr.fit(x_train,y_train)"
   ]
  },
  {
   "cell_type": "code",
   "execution_count": 15,
   "id": "5a1486cc-fd3a-481a-a99d-0ef3f202d35a",
   "metadata": {},
   "outputs": [],
   "source": [
    "predictions = model.predict(x_test)"
   ]
  },
  {
   "cell_type": "code",
   "execution_count": 16,
   "id": "9891b513-2ac3-46e9-af68-f4e9af9b3fd8",
   "metadata": {},
   "outputs": [
    {
     "name": "stdout",
     "output_type": "stream",
     "text": [
      "\n",
      "--- Linear Regression Model ---\n"
     ]
    },
    {
     "data": {
      "text/plain": [
       "array([541975.77419354, 498094.31397849, 498094.31397849, 410331.39354838,\n",
       "       366449.93333334, 498094.31397849, 410331.39354838, 322568.47311828,\n",
       "       410331.39354838, 498094.31397849, 629738.69462365, 410331.39354838])"
      ]
     },
     "execution_count": 16,
     "metadata": {},
     "output_type": "execute_result"
    }
   ],
   "source": [
    "print(\"\\n--- Linear Regression Model ---\")\n",
    "predictions"
   ]
  },
  {
   "cell_type": "code",
   "execution_count": 17,
   "id": "4ce46b61-a726-4c33-8882-0233e85a4699",
   "metadata": {},
   "outputs": [
    {
     "name": "stdout",
     "output_type": "stream",
     "text": [
      "Mean Squared Error =  4578558064.883415\n",
      "R Squared Value =  0.5952655854274035\n"
     ]
    }
   ],
   "source": [
    "print('Mean Squared Error = ', mean_squared_error(y_test,predictions))\n",
    "print('R Squared Value = ',r2_score(y_test,predictions))"
   ]
  },
  {
   "cell_type": "code",
   "execution_count": 18,
   "id": "c3ac9adb-feb5-41c8-b1d7-8f515e9632ee",
   "metadata": {},
   "outputs": [
    {
     "data": {
      "image/png": "[encoded data removed]",
      "text/plain": [
       "<Figure size 1000x600 with 1 Axes>"
      ]
     },
     "metadata": {},
     "output_type": "display_data"
    }
   ],
   "source": [
    "plt.figure(figsize=(10, 6))\n",
    "plt.scatter(x, y, color='blue', label='Actual Prices')\n",
    "plt.plot(x, lr.predict(x), color='red', linewidth=2, label='Linear Regression Line')\n",
    "plt.title('Linear Regression: Price vs. Year')\n",
    "plt.xlabel('Year')\n",
    "plt.ylabel('Price')\n",
    "plt.legend()\n",
    "plt.grid(True)\n",
    "plt.show()"
   ]
  },
  {
   "cell_type": "code",
   "execution_count": 19,
   "id": "9e5873da-8dec-4e95-869e-5f0daee6bc80",
   "metadata": {},
   "outputs": [
    {
     "name": "stdout",
     "output_type": "stream",
     "text": [
      "Predicted price of a 2022 model (Linear Regression): 717501.615053758\n"
     ]
    }
   ],
   "source": [
    "year_2022 = np.array([[2022]])\n",
    "predicted_price_2022_lr = lr.predict(year_2022)[0]\n",
    "print(\"Predicted price of a 2022 model (Linear Regression):\", predicted_price_2022_lr)\n"
   ]
  },
  {
   "cell_type": "markdown",
   "id": "92b7bbf4-5874-4943-ad68-90a9cb897ca2",
   "metadata": {},
   "source": [
    "#Lasso Regression Model"
   ]
  },
  {
   "cell_type": "code",
   "execution_count": 20,
   "id": "9c9c113f-7c1f-430f-938d-285c3ebe3e6f",
   "metadata": {},
   "outputs": [],
   "source": [
    "lasso = Lasso(alpha=0.1, random_state=42)  \n",
    "lasso_model=lasso.fit(x_train, y_train)"
   ]
  },
  {
   "cell_type": "code",
   "execution_count": 21,
   "id": "744c4cb4-41e8-4581-976a-36d769b927f4",
   "metadata": {},
   "outputs": [],
   "source": [
    "y_pred = lasso_model.predict(x_test)"
   ]
  },
  {
   "cell_type": "code",
   "execution_count": 22,
   "id": "5b1bcd92-af01-4d17-b7dc-f5dc99acd143",
   "metadata": {},
   "outputs": [
    {
     "name": "stdout",
     "output_type": "stream",
     "text": [
      "Mean Squared Error =  4578559309.462235\n",
      "R Squared Value =  0.5952654754093862\n"
     ]
    }
   ],
   "source": [
    "print('Mean Squared Error = ', mean_squared_error(y_test,y_pred))\n",
    "print('R Squared Value = ',r2_score(y_test,y_pred))\n"
   ]
  },
  {
   "cell_type": "code",
   "execution_count": 23,
   "id": "4630aefb-ceef-404c-b367-bc6b6f2f36f1",
   "metadata": {},
   "outputs": [
    {
     "data": {
      "image/png": "[encoded data removed]",
      "text/plain": [
       "<Figure size 1000x600 with 1 Axes>"
      ]
     },
     "metadata": {},
     "output_type": "display_data"
    }
   ],
   "source": [
    "plt.figure(figsize=(10, 6))\n",
    "plt.scatter(x='Year', y='Price', data=df, label='Actual Price')\n",
    "plt.plot(x, lasso_model.predict(x), color='green', label='Lasso Regression Line')\n",
    "plt.title('Lasso Regression: Price vs. Year')\n",
    "plt.xlabel('Year')\n",
    "plt.ylabel('Price')\n",
    "plt.legend()\n",
    "plt.show()\n"
   ]
  },
  {
   "cell_type": "code",
   "execution_count": 24,
   "id": "8c0a5c12-cce5-4275-8df8-771d8b2f15f6",
   "metadata": {},
   "outputs": [
    {
     "name": "stdout",
     "output_type": "stream",
     "text": [
      "\n",
      "Predicted price for a 2022 model (Lasso Regression): 717501.4641935527\n"
     ]
    }
   ],
   "source": [
    "predicted_price_2022_lasso = lasso_model.predict(year_2022)\n",
    "print(\"\\nPredicted price for a 2022 model (Lasso Regression):\", predicted_price_2022_lasso[0])"
   ]
  },
  {
   "cell_type": "code",
   "execution_count": 25,
   "id": "7990a292-a21d-4ecc-a2eb-188d41542472",
   "metadata": {},
   "outputs": [],
   "source": [
    "mse_linear = mean_squared_error(y_test, predictions)\n",
    "r2_linear = r2_score(y_test,predictions)\n",
    "mse_lasso = mean_squared_error(y_test, y_pred)\n",
    "r2_lasso = r2_score(y_test, y_pred)"
   ]
  },
  {
   "cell_type": "code",
   "execution_count": 26,
   "id": "14a6dfa4-e580-40c7-89aa-6b0cd75805dc",
   "metadata": {},
   "outputs": [
    {
     "name": "stdout",
     "output_type": "stream",
     "text": [
      "\n",
      "--- Model Comparison ---\n",
      "               Model           MSE  R2 Score\n",
      "0  Linear Regression  4.578558e+09  0.595266\n",
      "1   Lasso Regression  4.578559e+09  0.595265\n"
     ]
    }
   ],
   "source": [
    "print(\"\\n--- Model Comparison ---\")\n",
    "comparison_data = {\n",
    "    'Model':['Linear Regression','Lasso Regression'],\n",
    "    'MSE': [mse_linear, mse_lasso],\n",
    "    'R2 Score': [r2_linear, r2_lasso]\n",
    "}\n",
    "comparison_df = pd.DataFrame(comparison_data)\n",
    "print(comparison_df)\n"
   ]
  },
  {
   "cell_type": "code",
   "execution_count": 27,
   "id": "deb406af-3512-453e-a2ef-367b51820144",
   "metadata": {},
   "outputs": [
    {
     "name": "stdout",
     "output_type": "stream",
     "text": [
      "\n",
      "The performance metrics for both models are identical.\n",
      " We can use either model for the prediction.\n"
     ]
    }
   ],
   "source": [
    "print(\"\\nThe performance metrics for both models are identical.\\n We can use either model for the prediction.\")"
   ]
  },
  {
   "cell_type": "code",
   "execution_count": null,
   "id": "2cf0b702-468d-472c-a918-88bc3928205e",
   "metadata": {},
   "outputs": [],
   "source": []
  }
 ],
 "metadata": {
  "kernelspec": {
   "display_name": "Python [conda env:base] *",
   "language": "python",
   "name": "conda-base-py"
  },
  "language_info": {
   "codemirror_mode": {
    "name": "ipython",
    "version": 3
   },
   "file_extension": ".py",
   "mimetype": "text/x-python",
   "name": "python",
   "nbconvert_exporter": "python",
   "pygments_lexer": "ipython3",
   "version": "3.13.5"
  }
 },
 "nbformat": 4,
 "nbformat_minor": 5
}
