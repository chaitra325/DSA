{
 "cells": [
  {
   "cell_type": "markdown",
   "id": "4b773798-0f56-4470-944f-7c846b140ac6",
   "metadata": {},
   "source": [
    "Bank Account Manager"
   ]
  },
  {
   "cell_type": "code",
   "execution_count": 1,
   "id": "4b94eb30-7431-47f7-9826-64c0374301ac",
   "metadata": {},
   "outputs": [],
   "source": [
    "def show_balance(balance):\n",
    "    print(\"Your current balance is : Rs \",balance)"
   ]
  },
  {
   "cell_type": "code",
   "execution_count": 6,
   "id": "229a1ceb-f1a7-45cc-b634-58d241d755a5",
   "metadata": {},
   "outputs": [
    {
     "name": "stdout",
     "output_type": "stream",
     "text": [
      "Account Details\n"
     ]
    },
    {
     "name": "stdin",
     "output_type": "stream",
     "text": [
      "Enter your name :  Chaitra\n",
      "Enter account number :  1234\n"
     ]
    },
    {
     "name": "stdout",
     "output_type": "stream",
     "text": [
      "1.Show Balance\n",
      "2.Deposit\n",
      "3.Withdraw\n",
      "4.Exit\n"
     ]
    },
    {
     "name": "stdin",
     "output_type": "stream",
     "text": [
      "Enter your choice (1-4) :  1\n"
     ]
    },
    {
     "name": "stdout",
     "output_type": "stream",
     "text": [
      "Your current balance is : Rs  0.0\n",
      "Thank You\n",
      "1.Show Balance\n",
      "2.Deposit\n",
      "3.Withdraw\n",
      "4.Exit\n"
     ]
    },
    {
     "name": "stdin",
     "output_type": "stream",
     "text": [
      "Enter your choice (1-4) :  2\n",
      "Enter the deposit amount : Rs -334\n"
     ]
    },
    {
     "name": "stdout",
     "output_type": "stream",
     "text": [
      "Invalid Amount.Deposit must be greater than zero\n",
      "Thank You\n",
      "1.Show Balance\n",
      "2.Deposit\n",
      "3.Withdraw\n",
      "4.Exit\n"
     ]
    },
    {
     "name": "stdin",
     "output_type": "stream",
     "text": [
      "Enter your choice (1-4) :  2\n",
      "Enter the deposit amount : Rs 1000\n"
     ]
    },
    {
     "name": "stdout",
     "output_type": "stream",
     "text": [
      "Amount has been deposited successfully\n",
      "Thank You\n",
      "1.Show Balance\n",
      "2.Deposit\n",
      "3.Withdraw\n",
      "4.Exit\n"
     ]
    },
    {
     "name": "stdin",
     "output_type": "stream",
     "text": [
      "Enter your choice (1-4) :  1\n"
     ]
    },
    {
     "name": "stdout",
     "output_type": "stream",
     "text": [
      "Your current balance is : Rs  1000.0\n",
      "Thank You\n",
      "1.Show Balance\n",
      "2.Deposit\n",
      "3.Withdraw\n",
      "4.Exit\n"
     ]
    },
    {
     "name": "stdin",
     "output_type": "stream",
     "text": [
      "Enter your choice (1-4) :  3\n",
      "Enter the withdrawal amount : Rs 0\n"
     ]
    },
    {
     "name": "stdout",
     "output_type": "stream",
     "text": [
      "Invalid Amount.Withdrawal must be greater than zero.\n",
      "Thank You\n",
      "1.Show Balance\n",
      "2.Deposit\n",
      "3.Withdraw\n",
      "4.Exit\n"
     ]
    },
    {
     "name": "stdin",
     "output_type": "stream",
     "text": [
      "Enter your choice (1-4) :  3\n",
      "Enter the withdrawal amount : Rs 2000\n"
     ]
    },
    {
     "name": "stdout",
     "output_type": "stream",
     "text": [
      "Insufficient Funds.\n",
      "Thank You\n",
      "1.Show Balance\n",
      "2.Deposit\n",
      "3.Withdraw\n",
      "4.Exit\n"
     ]
    },
    {
     "name": "stdin",
     "output_type": "stream",
     "text": [
      "Enter your choice (1-4) :  3\n",
      "Enter the withdrawal amount : Rs 500\n"
     ]
    },
    {
     "name": "stdout",
     "output_type": "stream",
     "text": [
      "Amount has been withdrawn successfully.\n",
      "Thank You\n",
      "1.Show Balance\n",
      "2.Deposit\n",
      "3.Withdraw\n",
      "4.Exit\n"
     ]
    },
    {
     "name": "stdin",
     "output_type": "stream",
     "text": [
      "Enter your choice (1-4) :  1\n"
     ]
    },
    {
     "name": "stdout",
     "output_type": "stream",
     "text": [
      "Your current balance is : Rs  500.0\n",
      "Thank You\n",
      "1.Show Balance\n",
      "2.Deposit\n",
      "3.Withdraw\n",
      "4.Exit\n"
     ]
    },
    {
     "name": "stdin",
     "output_type": "stream",
     "text": [
      "Enter your choice (1-4) :  4\n"
     ]
    },
    {
     "name": "stdout",
     "output_type": "stream",
     "text": [
      "Thank You\n"
     ]
    }
   ],
   "source": [
    "def deposit():\n",
    "    amount = float(input(\"Enter the deposit amount : Rs\"))\n",
    "    if amount > 0:\n",
    "        print(\"Amount has been deposited successfully\")\n",
    "        return amount\n",
    "    else:\n",
    "        print(\"Invalid Amount.Deposit must be greater than zero\")\n",
    "        return 0\n",
    "\n",
    "def withdraw(balance):\n",
    "    amount = float(input(\"Enter the withdrawal amount : Rs\"))\n",
    "    if amount > 0:\n",
    "        if amount <= balance:\n",
    "            print(\"Amount has been withdrawn successfully.\")\n",
    "            return amount\n",
    "        else:\n",
    "            print(\"Insufficient Funds.\")\n",
    "            return 0\n",
    "    else:\n",
    "        print(\"Invalid Amount.Withdrawal must be greater than zero.\")\n",
    "        return 0\n",
    "def main():\n",
    "    balance = 0.0\n",
    "    is_running = True\n",
    "    print(\"Account Details\")\n",
    "    holder_name = input(\"Enter your name : \")\n",
    "    acc_number = int(input(\"Enter account number : \"))\n",
    "    while is_running:\n",
    "        print(\"1.Show Balance\")\n",
    "        print(\"2.Deposit\")\n",
    "        print(\"3.Withdraw\")\n",
    "        print(\"4.Exit\")\n",
    "        choice = input(\"Enter your choice (1-4) : \")\n",
    "        if choice == '1':\n",
    "            show_balance(balance)\n",
    "        elif choice == '2':\n",
    "            balance += deposit()\n",
    "        elif choice == '3':\n",
    "            balance -= withdraw(balance)\n",
    "        elif choice == '4':\n",
    "            is_running = False\n",
    "        else:\n",
    "            print(\"Invalid Choice\")\n",
    "        print(\"Thank You\")\n",
    "main()"
   ]
  },
  {
   "cell_type": "code",
   "execution_count": null,
   "id": "7989970f-84aa-4ebd-9c6b-09f7032134de",
   "metadata": {},
   "outputs": [],
   "source": []
  },
  {
   "cell_type": "code",
   "execution_count": null,
   "id": "d8b0d76c-26cc-4a17-9a65-2caeac9559e0",
   "metadata": {},
   "outputs": [],
   "source": []
  },
  {
   "cell_type": "code",
   "execution_count": null,
   "id": "ccea66c3-94a7-4014-af06-bf37428496ef",
   "metadata": {},
   "outputs": [],
   "source": [
    "Weather Data Analyzer"
   ]
  },
  {
   "cell_type": "code",
   "execution_count": 11,
   "id": "efb7f3e0-b5ea-4830-b955-043bfa4b6096",
   "metadata": {},
   "outputs": [
    {
     "name": "stdin",
     "output_type": "stream",
     "text": [
      "Enter the number of temperature and humidity readings :  3\n",
      "Enter the temperature in Celsius :  25\n",
      "Enter the humidity in % :  87\n",
      "Enter the temperature in Celsius :  45\n",
      "Enter the humidity in % :  76\n",
      "Enter the temperature in Celsius :  30\n",
      "Enter the humidity in % :  67\n"
     ]
    },
    {
     "name": "stdout",
     "output_type": "stream",
     "text": [
      "\n",
      "The temperature is :  [25.0, 45.0, 30.0]\n",
      "The humidity is :  [87.0, 76.0, 67.0]\n",
      "\n",
      "Average temperature in Celsius :  33.333333333333336\n",
      "Average humidity in % :  76.66666666666667\n",
      "Weather Condition :  MODERATE CONDITION\n"
     ]
    }
   ],
   "source": [
    "def get_readings(num_readings):\n",
    "    temperatures = []\n",
    "    humidities = []\n",
    "    for i in range (num_readings):\n",
    "        temp = float(input(\"Enter the temperature in Celsius : \" ))\n",
    "        humidity = float(input(\"Enter the humidity in % : \"))\n",
    "        i+=1\n",
    "        temperatures.append(temp)\n",
    "        humidities.append(humidity)\n",
    "    return temperatures,humidities\n",
    "        \n",
    "\n",
    "def calculate_average (data_list):\n",
    "    if not data_list :\n",
    "        return 0.0\n",
    "    else:\n",
    "        return sum(data_list)/len(data_list)\n",
    "\n",
    "def determine_weather (avg_tem , avg_hum):\n",
    "    if avg_tem >25 and avg_hum < 60 :\n",
    "        return \"SUNNY\"\n",
    "    elif avg_tem <10 :\n",
    "        return \"COLD\"\n",
    "    elif avg_hum >80 :\n",
    "        return \"RAINY\"\n",
    "    else:\n",
    "        return \"MODERATE CONDITION\"\n",
    "\n",
    "def main():\n",
    "    num_readings = int(input(\"Enter the number of temperature and humidity readings : \"))\n",
    "    temps, hums = get_readings(num_readings)\n",
    "    avg_temperature = calculate_average(temps)\n",
    "    avg_humidity = calculate_average(hums)\n",
    "    weather_condition = determine_weather(avg_temperature, avg_humidity)\n",
    "    print(\"\\nThe temperature is : \",temps)\n",
    "    print(\"The humidity is : \",hums)\n",
    "    print(\"\\nAverage temperature in Celsius : \", avg_temperature)\n",
    "    print(\"Average humidity in % : \", avg_humidity)\n",
    "    print(\"Weather Condition : \", weather_condition)\n",
    "main()"
   ]
  },
  {
   "cell_type": "code",
   "execution_count": null,
   "id": "476bcbf9-f3a4-4241-9e1f-7f6444251d75",
   "metadata": {},
   "outputs": [],
   "source": []
  }
 ],
 "metadata": {
  "kernelspec": {
   "display_name": "Python [conda env:base] *",
   "language": "python",
   "name": "conda-base-py"
  },
  "language_info": {
   "codemirror_mode": {
    "name": "ipython",
    "version": 3
   },
   "file_extension": ".py",
   "mimetype": "text/x-python",
   "name": "python",
   "nbconvert_exporter": "python",
   "pygments_lexer": "ipython3",
   "version": "3.13.5"
  }
 },
 "nbformat": 4,
 "nbformat_minor": 5
}
